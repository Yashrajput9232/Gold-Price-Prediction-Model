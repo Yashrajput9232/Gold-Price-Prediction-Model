{
 "cells": [
  {
   "cell_type": "markdown",
   "id": "67c6fae7",
   "metadata": {},
   "source": [
    "# Gold Prediction Model \n",
    "## Workflow:\n",
    "1. Finding data set for gold's prices \n",
    "2. Preprocessing of the data \n",
    "3. Analyse the data to understand which factos are important and what is not\n",
    "4. Spliting our data set into Training Set and Test Set \n",
    "5. Using Random Forest Regressor Model we will prefict the price\n",
    "6. Evalutation of our model on the basis of the Test Set\n",
    "\n",
    "Gold Prices Data Set : [Link](https://www.youtube.com/redirect?event=video_description&redir_token=QUFFLUhqa3FzTTUyZ2NzVVN4U3pWa0RBTVVxY0tLX05rZ3xBQ3Jtc0tteWtLTm5oQTVDd2lET21yeERTSlp2UFpIQWxFbm9USFYtLUpSZGh5YW9lOUlER242TGgtTDQ0M2hvWW9rZnl1V2tJamViV0I4X2NzVGRSbC1VVDFyUVRDT0dPb0FVMjBoOWhUd01haHAzRVUwb2wzRQ&q=https%3A%2F%2Fwww.kaggle.com%2Faltruistdelhite04%2Fgold-price-data&v=9ffkBvh8PTQ)\n"
   ]
  },
  {
   "cell_type": "markdown",
   "id": "5c354dd9",
   "metadata": {},
   "source": [
    "### Importing all the necessary libraries"
   ]
  },
  {
   "cell_type": "code",
   "execution_count": 114,
   "id": "6087b824",
   "metadata": {},
   "outputs": [],
   "source": [
    "import numpy as np \n",
    "import pandas as pd\n",
    "import seaborn as sb\n",
    "import matplotlib.pyplot as plt\n",
    "# As we are using two data sets one for testing and another for training we are using the train_test_split function\n",
    "from sklearn.model_selection import train_test_split  \n",
    "from sklearn.ensemble import RandomForestRegressor \n",
    "# It is used to find things like the error score, accuracy of model etc\n",
    "from sklearn import metrics \n",
    "from sklearn.metrics import accuracy_score\n"
   ]
  },
  {
   "cell_type": "markdown",
   "id": "3293880d",
   "metadata": {},
   "source": [
    "### Collection of Data and Preprocessing"
   ]
  },
  {
   "cell_type": "code",
   "execution_count": 19,
   "id": "1be281a6",
   "metadata": {},
   "outputs": [
    {
     "data": {
      "text/html": [
       "<div>\n",
       "<style scoped>\n",
       "    .dataframe tbody tr th:only-of-type {\n",
       "        vertical-align: middle;\n",
       "    }\n",
       "\n",
       "    .dataframe tbody tr th {\n",
       "        vertical-align: top;\n",
       "    }\n",
       "\n",
       "    .dataframe thead th {\n",
       "        text-align: right;\n",
       "    }\n",
       "</style>\n",
       "<table border=\"1\" class=\"dataframe\">\n",
       "  <thead>\n",
       "    <tr style=\"text-align: right;\">\n",
       "      <th></th>\n",
       "      <th>Date</th>\n",
       "      <th>SPX</th>\n",
       "      <th>GLD</th>\n",
       "      <th>USO</th>\n",
       "      <th>SLV</th>\n",
       "      <th>EUR/USD</th>\n",
       "    </tr>\n",
       "  </thead>\n",
       "  <tbody>\n",
       "    <tr>\n",
       "      <th>0</th>\n",
       "      <td>1/2/2008</td>\n",
       "      <td>1447.160034</td>\n",
       "      <td>84.860001</td>\n",
       "      <td>78.470001</td>\n",
       "      <td>15.180</td>\n",
       "      <td>1.471692</td>\n",
       "    </tr>\n",
       "    <tr>\n",
       "      <th>1</th>\n",
       "      <td>1/3/2008</td>\n",
       "      <td>1447.160034</td>\n",
       "      <td>85.570000</td>\n",
       "      <td>78.370003</td>\n",
       "      <td>15.285</td>\n",
       "      <td>1.474491</td>\n",
       "    </tr>\n",
       "    <tr>\n",
       "      <th>2</th>\n",
       "      <td>1/4/2008</td>\n",
       "      <td>1411.630005</td>\n",
       "      <td>85.129997</td>\n",
       "      <td>77.309998</td>\n",
       "      <td>15.167</td>\n",
       "      <td>1.475492</td>\n",
       "    </tr>\n",
       "    <tr>\n",
       "      <th>3</th>\n",
       "      <td>1/7/2008</td>\n",
       "      <td>1416.180054</td>\n",
       "      <td>84.769997</td>\n",
       "      <td>75.500000</td>\n",
       "      <td>15.053</td>\n",
       "      <td>1.468299</td>\n",
       "    </tr>\n",
       "    <tr>\n",
       "      <th>4</th>\n",
       "      <td>1/8/2008</td>\n",
       "      <td>1390.189941</td>\n",
       "      <td>86.779999</td>\n",
       "      <td>76.059998</td>\n",
       "      <td>15.590</td>\n",
       "      <td>1.557099</td>\n",
       "    </tr>\n",
       "  </tbody>\n",
       "</table>\n",
       "</div>"
      ],
      "text/plain": [
       "       Date          SPX        GLD        USO     SLV   EUR/USD\n",
       "0  1/2/2008  1447.160034  84.860001  78.470001  15.180  1.471692\n",
       "1  1/3/2008  1447.160034  85.570000  78.370003  15.285  1.474491\n",
       "2  1/4/2008  1411.630005  85.129997  77.309998  15.167  1.475492\n",
       "3  1/7/2008  1416.180054  84.769997  75.500000  15.053  1.468299\n",
       "4  1/8/2008  1390.189941  86.779999  76.059998  15.590  1.557099"
      ]
     },
     "execution_count": 19,
     "metadata": {},
     "output_type": "execute_result"
    }
   ],
   "source": [
    "# Looding the csv fine using Pandas\n",
    "gold_dataset = pd.read_csv(r\"C:\\Users\\Yash Rajput\\Desktop\\Gold Price Prediction\\Data Set\\gld_price_data.csv\") \n",
    "gold_dataset.head()"
   ]
  },
  {
   "cell_type": "markdown",
   "id": "58f5dd9e",
   "metadata": {},
   "source": [
    "### Understanding the Data\n",
    "1. Data: It is the date on which the values are noted in the format of MM/DD/YYYY\n",
    "2. SPX: SPX indicates the S&P 500 index, it is the captilisation for top 500 companies in US (basically it is a stock)\n",
    "3. GLD: It is the prices of gold on the corresponding dates\n",
    "4. USO: It inidcates the United States Oil prices\n",
    "5. SLV: It is the prices of silver on the corresponding dates\n",
    "6. EUR/USD: It is the currency pair of euro and dollar"
   ]
  },
  {
   "cell_type": "code",
   "execution_count": 25,
   "id": "cff37dc3",
   "metadata": {},
   "outputs": [
    {
     "data": {
      "text/html": [
       "<div>\n",
       "<style scoped>\n",
       "    .dataframe tbody tr th:only-of-type {\n",
       "        vertical-align: middle;\n",
       "    }\n",
       "\n",
       "    .dataframe tbody tr th {\n",
       "        vertical-align: top;\n",
       "    }\n",
       "\n",
       "    .dataframe thead th {\n",
       "        text-align: right;\n",
       "    }\n",
       "</style>\n",
       "<table border=\"1\" class=\"dataframe\">\n",
       "  <thead>\n",
       "    <tr style=\"text-align: right;\">\n",
       "      <th></th>\n",
       "      <th>Date</th>\n",
       "      <th>SPX</th>\n",
       "      <th>GLD</th>\n",
       "      <th>USO</th>\n",
       "      <th>SLV</th>\n",
       "      <th>EUR/USD</th>\n",
       "    </tr>\n",
       "  </thead>\n",
       "  <tbody>\n",
       "    <tr>\n",
       "      <th>2285</th>\n",
       "      <td>5/8/2018</td>\n",
       "      <td>2671.919922</td>\n",
       "      <td>124.589996</td>\n",
       "      <td>14.0600</td>\n",
       "      <td>15.5100</td>\n",
       "      <td>1.186789</td>\n",
       "    </tr>\n",
       "    <tr>\n",
       "      <th>2286</th>\n",
       "      <td>5/9/2018</td>\n",
       "      <td>2697.790039</td>\n",
       "      <td>124.330002</td>\n",
       "      <td>14.3700</td>\n",
       "      <td>15.5300</td>\n",
       "      <td>1.184722</td>\n",
       "    </tr>\n",
       "    <tr>\n",
       "      <th>2287</th>\n",
       "      <td>5/10/2018</td>\n",
       "      <td>2723.070068</td>\n",
       "      <td>125.180000</td>\n",
       "      <td>14.4100</td>\n",
       "      <td>15.7400</td>\n",
       "      <td>1.191753</td>\n",
       "    </tr>\n",
       "    <tr>\n",
       "      <th>2288</th>\n",
       "      <td>5/14/2018</td>\n",
       "      <td>2730.129883</td>\n",
       "      <td>124.489998</td>\n",
       "      <td>14.3800</td>\n",
       "      <td>15.5600</td>\n",
       "      <td>1.193118</td>\n",
       "    </tr>\n",
       "    <tr>\n",
       "      <th>2289</th>\n",
       "      <td>5/16/2018</td>\n",
       "      <td>2725.780029</td>\n",
       "      <td>122.543800</td>\n",
       "      <td>14.4058</td>\n",
       "      <td>15.4542</td>\n",
       "      <td>1.182033</td>\n",
       "    </tr>\n",
       "  </tbody>\n",
       "</table>\n",
       "</div>"
      ],
      "text/plain": [
       "           Date          SPX         GLD      USO      SLV   EUR/USD\n",
       "2285   5/8/2018  2671.919922  124.589996  14.0600  15.5100  1.186789\n",
       "2286   5/9/2018  2697.790039  124.330002  14.3700  15.5300  1.184722\n",
       "2287  5/10/2018  2723.070068  125.180000  14.4100  15.7400  1.191753\n",
       "2288  5/14/2018  2730.129883  124.489998  14.3800  15.5600  1.193118\n",
       "2289  5/16/2018  2725.780029  122.543800  14.4058  15.4542  1.182033"
      ]
     },
     "execution_count": 25,
     "metadata": {},
     "output_type": "execute_result"
    }
   ],
   "source": [
    "gold_dataset.tail()\n",
    "\n"
   ]
  },
  {
   "cell_type": "code",
   "execution_count": 26,
   "id": "1cf4ed60",
   "metadata": {},
   "outputs": [
    {
     "data": {
      "text/plain": [
       "(2290, 6)"
      ]
     },
     "execution_count": 26,
     "metadata": {},
     "output_type": "execute_result"
    }
   ],
   "source": [
    "gold_dataset.shape"
   ]
  },
  {
   "cell_type": "markdown",
   "id": "0296c39e",
   "metadata": {},
   "source": [
    "### Our Data Set Contains Dates from 2nd January 2008 to 16 May 2018\n",
    " Roughly we have a dataset of 10 years \n",
    " \n",
    " 2290 values to be precise"
   ]
  },
  {
   "cell_type": "markdown",
   "id": "cd0faca8",
   "metadata": {},
   "source": [
    "### Basic Information About the Data"
   ]
  },
  {
   "cell_type": "code",
   "execution_count": 27,
   "id": "cec155e3",
   "metadata": {},
   "outputs": [
    {
     "name": "stdout",
     "output_type": "stream",
     "text": [
      "<class 'pandas.core.frame.DataFrame'>\n",
      "RangeIndex: 2290 entries, 0 to 2289\n",
      "Data columns (total 6 columns):\n",
      " #   Column   Non-Null Count  Dtype  \n",
      "---  ------   --------------  -----  \n",
      " 0   Date     2290 non-null   object \n",
      " 1   SPX      2290 non-null   float64\n",
      " 2   GLD      2290 non-null   float64\n",
      " 3   USO      2290 non-null   float64\n",
      " 4   SLV      2290 non-null   float64\n",
      " 5   EUR/USD  2290 non-null   float64\n",
      "dtypes: float64(5), object(1)\n",
      "memory usage: 107.5+ KB\n"
     ]
    }
   ],
   "source": [
    "gold_dataset.info()"
   ]
  },
  {
   "cell_type": "markdown",
   "id": "5f69ff56",
   "metadata": {},
   "source": [
    "### We see that there aren't any null values"
   ]
  },
  {
   "cell_type": "code",
   "execution_count": 28,
   "id": "99649949",
   "metadata": {},
   "outputs": [
    {
     "data": {
      "text/plain": [
       "Date       0\n",
       "SPX        0\n",
       "GLD        0\n",
       "USO        0\n",
       "SLV        0\n",
       "EUR/USD    0\n",
       "dtype: int64"
      ]
     },
     "execution_count": 28,
     "metadata": {},
     "output_type": "execute_result"
    }
   ],
   "source": [
    "# We can also check the number of null values with this method\n",
    "gold_dataset.isnull().sum()"
   ]
  },
  {
   "cell_type": "markdown",
   "id": "d79ed271",
   "metadata": {},
   "source": [
    "### Gathering Statistical Measures of the Data"
   ]
  },
  {
   "cell_type": "code",
   "execution_count": 29,
   "id": "da1f6bfa",
   "metadata": {},
   "outputs": [
    {
     "data": {
      "text/html": [
       "<div>\n",
       "<style scoped>\n",
       "    .dataframe tbody tr th:only-of-type {\n",
       "        vertical-align: middle;\n",
       "    }\n",
       "\n",
       "    .dataframe tbody tr th {\n",
       "        vertical-align: top;\n",
       "    }\n",
       "\n",
       "    .dataframe thead th {\n",
       "        text-align: right;\n",
       "    }\n",
       "</style>\n",
       "<table border=\"1\" class=\"dataframe\">\n",
       "  <thead>\n",
       "    <tr style=\"text-align: right;\">\n",
       "      <th></th>\n",
       "      <th>SPX</th>\n",
       "      <th>GLD</th>\n",
       "      <th>USO</th>\n",
       "      <th>SLV</th>\n",
       "      <th>EUR/USD</th>\n",
       "    </tr>\n",
       "  </thead>\n",
       "  <tbody>\n",
       "    <tr>\n",
       "      <th>count</th>\n",
       "      <td>2290.000000</td>\n",
       "      <td>2290.000000</td>\n",
       "      <td>2290.000000</td>\n",
       "      <td>2290.000000</td>\n",
       "      <td>2290.000000</td>\n",
       "    </tr>\n",
       "    <tr>\n",
       "      <th>mean</th>\n",
       "      <td>1654.315776</td>\n",
       "      <td>122.732875</td>\n",
       "      <td>31.842221</td>\n",
       "      <td>20.084997</td>\n",
       "      <td>1.283653</td>\n",
       "    </tr>\n",
       "    <tr>\n",
       "      <th>std</th>\n",
       "      <td>519.111540</td>\n",
       "      <td>23.283346</td>\n",
       "      <td>19.523517</td>\n",
       "      <td>7.092566</td>\n",
       "      <td>0.131547</td>\n",
       "    </tr>\n",
       "    <tr>\n",
       "      <th>min</th>\n",
       "      <td>676.530029</td>\n",
       "      <td>70.000000</td>\n",
       "      <td>7.960000</td>\n",
       "      <td>8.850000</td>\n",
       "      <td>1.039047</td>\n",
       "    </tr>\n",
       "    <tr>\n",
       "      <th>25%</th>\n",
       "      <td>1239.874969</td>\n",
       "      <td>109.725000</td>\n",
       "      <td>14.380000</td>\n",
       "      <td>15.570000</td>\n",
       "      <td>1.171313</td>\n",
       "    </tr>\n",
       "    <tr>\n",
       "      <th>50%</th>\n",
       "      <td>1551.434998</td>\n",
       "      <td>120.580002</td>\n",
       "      <td>33.869999</td>\n",
       "      <td>17.268500</td>\n",
       "      <td>1.303297</td>\n",
       "    </tr>\n",
       "    <tr>\n",
       "      <th>75%</th>\n",
       "      <td>2073.010070</td>\n",
       "      <td>132.840004</td>\n",
       "      <td>37.827501</td>\n",
       "      <td>22.882500</td>\n",
       "      <td>1.369971</td>\n",
       "    </tr>\n",
       "    <tr>\n",
       "      <th>max</th>\n",
       "      <td>2872.870117</td>\n",
       "      <td>184.589996</td>\n",
       "      <td>117.480003</td>\n",
       "      <td>47.259998</td>\n",
       "      <td>1.598798</td>\n",
       "    </tr>\n",
       "  </tbody>\n",
       "</table>\n",
       "</div>"
      ],
      "text/plain": [
       "               SPX          GLD          USO          SLV      EUR/USD\n",
       "count  2290.000000  2290.000000  2290.000000  2290.000000  2290.000000\n",
       "mean   1654.315776   122.732875    31.842221    20.084997     1.283653\n",
       "std     519.111540    23.283346    19.523517     7.092566     0.131547\n",
       "min     676.530029    70.000000     7.960000     8.850000     1.039047\n",
       "25%    1239.874969   109.725000    14.380000    15.570000     1.171313\n",
       "50%    1551.434998   120.580002    33.869999    17.268500     1.303297\n",
       "75%    2073.010070   132.840004    37.827501    22.882500     1.369971\n",
       "max    2872.870117   184.589996   117.480003    47.259998     1.598798"
      ]
     },
     "execution_count": 29,
     "metadata": {},
     "output_type": "execute_result"
    }
   ],
   "source": [
    "gold_dataset.describe()"
   ]
  },
  {
   "cell_type": "markdown",
   "id": "0d364cb6",
   "metadata": {},
   "source": [
    "### Analysing the data to find correlation\n",
    "Identifying whether its a positive correlation or a negative correlation\n",
    "\n",
    "understanding correlation in a very simple and crude way:\n",
    "\n",
    "1. Positive Correlation: Directly Proportional\n",
    "2. Negative Correlation: Inversely Proportional"
   ]
  },
  {
   "cell_type": "code",
   "execution_count": 33,
   "id": "20e80201",
   "metadata": {},
   "outputs": [
    {
     "name": "stderr",
     "output_type": "stream",
     "text": [
      "C:\\Users\\Yash Rajput\\AppData\\Local\\Temp\\ipykernel_26444\\4191627151.py:1: FutureWarning: The default value of numeric_only in DataFrame.corr is deprecated. In a future version, it will default to False. Select only valid columns or specify the value of numeric_only to silence this warning.\n",
      "  correlation = gold_dataset.corr()\n"
     ]
    }
   ],
   "source": [
    "correlation = gold_dataset.corr()"
   ]
  },
  {
   "cell_type": "markdown",
   "id": "9ff0cb53",
   "metadata": {},
   "source": [
    "### Constructing A Heat Map to understand the correlation\n"
   ]
  },
  {
   "cell_type": "code",
   "execution_count": 66,
   "id": "afa7c40c",
   "metadata": {},
   "outputs": [
    {
     "data": {
      "text/plain": [
       "<Axes: >"
      ]
     },
     "execution_count": 66,
     "metadata": {},
     "output_type": "execute_result"
    },
    {
     "data": {
      "image/png": "[encoded data removed]",
      "text/plain": [
       "<Figure size 600x600 with 2 Axes>"
      ]
     },
     "metadata": {},
     "output_type": "display_data"
    }
   ],
   "source": [
    "plt.figure(figsize = (6,6)) # Size of the heat map\n",
    "\n",
    "sb.heatmap(correlation, square=True, cbar = True, fmt= '.1f',annot=True, annot_kws={'size':8}, cmap='Reds')"
   ]
  },
  {
   "cell_type": "markdown",
   "id": "c1f1233f",
   "metadata": {},
   "source": [
    "### Understanding the parameters used above \n",
    "1. cbar = True: It shows the color bar on right which acts like a scale \n",
    "2. square = True: We wanted the map in square format, otherwise it would have been in rectangle format\n",
    "3. fmt = '.1f': It it for the number of decimals we want \n",
    "4. annot = True: It is for the values we see on the small squares\n",
    "5. cmap = 'Reds': It is for the color theme of the map"
   ]
  },
  {
   "cell_type": "code",
   "execution_count": 60,
   "id": "3459f83f",
   "metadata": {},
   "outputs": [
    {
     "name": "stdout",
     "output_type": "stream",
     "text": [
      "SPX        0.049345\n",
      "GLD        1.000000\n",
      "USO       -0.186360\n",
      "SLV        0.866632\n",
      "EUR/USD   -0.024375\n",
      "Name: GLD, dtype: float64\n"
     ]
    }
   ],
   "source": [
    "# Correlation values of Gold \n",
    "print(correlation['GLD'])"
   ]
  },
  {
   "cell_type": "markdown",
   "id": "850403b1",
   "metadata": {},
   "source": [
    "### Our Understanding\n",
    "1. Gold and SP 500 are slightly positively correlated\n",
    "2. Gold and US Oil is negatively correlated\n",
    "3. Gold and Silver are positively correlated\n",
    "4. Gold and currency pair is slightly negatively correlated"
   ]
  },
  {
   "cell_type": "markdown",
   "id": "40318f00",
   "metadata": {},
   "source": [
    "### Checking the distribution of the Gold's price over these 10 years"
   ]
  },
  {
   "cell_type": "code",
   "execution_count": 70,
   "id": "c6b789f8",
   "metadata": {},
   "outputs": [
    {
     "data": {
      "text/plain": [
       "<Axes: xlabel='GLD', ylabel='Count'>"
      ]
     },
     "execution_count": 70,
     "metadata": {},
     "output_type": "execute_result"
    },
    {
     "data": {
      "image/png": "[encoded data removed]",
      "text/plain": [
       "<Figure size 640x480 with 1 Axes>"
      ]
     },
     "metadata": {},
     "output_type": "display_data"
    }
   ],
   "source": [
    "sb.histplot(gold_dataset['GLD'],color='Gold')\n",
    "# Note: .distplot() was used in older versions, now we use .histplot()"
   ]
  },
  {
   "cell_type": "markdown",
   "id": "5e589d76",
   "metadata": {},
   "source": [
    "### We can conlcude that majority of these values lie between 100 and 140"
   ]
  },
  {
   "cell_type": "markdown",
   "id": "0abd596e",
   "metadata": {},
   "source": [
    "### Splitting Of The Data Set\n",
    "We use the values of SPX, USO, SLV, EUR/USD to train our model to predict the price of GLD. In this process we will drop the date column"
   ]
  },
  {
   "cell_type": "code",
   "execution_count": 85,
   "id": "769087dc",
   "metadata": {},
   "outputs": [],
   "source": [
    "X = gold_dataset.drop(['GLD','Date'],axis=1) # For droping columns axis = 1 and for rows axis = 0\n",
    "Y = gold_dataset['GLD']"
   ]
  },
  {
   "cell_type": "code",
   "execution_count": 86,
   "id": "faabd8ff",
   "metadata": {},
   "outputs": [
    {
     "data": {
      "text/html": [
       "<div>\n",
       "<style scoped>\n",
       "    .dataframe tbody tr th:only-of-type {\n",
       "        vertical-align: middle;\n",
       "    }\n",
       "\n",
       "    .dataframe tbody tr th {\n",
       "        vertical-align: top;\n",
       "    }\n",
       "\n",
       "    .dataframe thead th {\n",
       "        text-align: right;\n",
       "    }\n",
       "</style>\n",
       "<table border=\"1\" class=\"dataframe\">\n",
       "  <thead>\n",
       "    <tr style=\"text-align: right;\">\n",
       "      <th></th>\n",
       "      <th>SPX</th>\n",
       "      <th>USO</th>\n",
       "      <th>SLV</th>\n",
       "      <th>EUR/USD</th>\n",
       "    </tr>\n",
       "  </thead>\n",
       "  <tbody>\n",
       "    <tr>\n",
       "      <th>0</th>\n",
       "      <td>1447.160034</td>\n",
       "      <td>78.470001</td>\n",
       "      <td>15.1800</td>\n",
       "      <td>1.471692</td>\n",
       "    </tr>\n",
       "    <tr>\n",
       "      <th>1</th>\n",
       "      <td>1447.160034</td>\n",
       "      <td>78.370003</td>\n",
       "      <td>15.2850</td>\n",
       "      <td>1.474491</td>\n",
       "    </tr>\n",
       "    <tr>\n",
       "      <th>2</th>\n",
       "      <td>1411.630005</td>\n",
       "      <td>77.309998</td>\n",
       "      <td>15.1670</td>\n",
       "      <td>1.475492</td>\n",
       "    </tr>\n",
       "    <tr>\n",
       "      <th>3</th>\n",
       "      <td>1416.180054</td>\n",
       "      <td>75.500000</td>\n",
       "      <td>15.0530</td>\n",
       "      <td>1.468299</td>\n",
       "    </tr>\n",
       "    <tr>\n",
       "      <th>4</th>\n",
       "      <td>1390.189941</td>\n",
       "      <td>76.059998</td>\n",
       "      <td>15.5900</td>\n",
       "      <td>1.557099</td>\n",
       "    </tr>\n",
       "    <tr>\n",
       "      <th>...</th>\n",
       "      <td>...</td>\n",
       "      <td>...</td>\n",
       "      <td>...</td>\n",
       "      <td>...</td>\n",
       "    </tr>\n",
       "    <tr>\n",
       "      <th>2285</th>\n",
       "      <td>2671.919922</td>\n",
       "      <td>14.060000</td>\n",
       "      <td>15.5100</td>\n",
       "      <td>1.186789</td>\n",
       "    </tr>\n",
       "    <tr>\n",
       "      <th>2286</th>\n",
       "      <td>2697.790039</td>\n",
       "      <td>14.370000</td>\n",
       "      <td>15.5300</td>\n",
       "      <td>1.184722</td>\n",
       "    </tr>\n",
       "    <tr>\n",
       "      <th>2287</th>\n",
       "      <td>2723.070068</td>\n",
       "      <td>14.410000</td>\n",
       "      <td>15.7400</td>\n",
       "      <td>1.191753</td>\n",
       "    </tr>\n",
       "    <tr>\n",
       "      <th>2288</th>\n",
       "      <td>2730.129883</td>\n",
       "      <td>14.380000</td>\n",
       "      <td>15.5600</td>\n",
       "      <td>1.193118</td>\n",
       "    </tr>\n",
       "    <tr>\n",
       "      <th>2289</th>\n",
       "      <td>2725.780029</td>\n",
       "      <td>14.405800</td>\n",
       "      <td>15.4542</td>\n",
       "      <td>1.182033</td>\n",
       "    </tr>\n",
       "  </tbody>\n",
       "</table>\n",
       "<p>2290 rows × 4 columns</p>\n",
       "</div>"
      ],
      "text/plain": [
       "              SPX        USO      SLV   EUR/USD\n",
       "0     1447.160034  78.470001  15.1800  1.471692\n",
       "1     1447.160034  78.370003  15.2850  1.474491\n",
       "2     1411.630005  77.309998  15.1670  1.475492\n",
       "3     1416.180054  75.500000  15.0530  1.468299\n",
       "4     1390.189941  76.059998  15.5900  1.557099\n",
       "...           ...        ...      ...       ...\n",
       "2285  2671.919922  14.060000  15.5100  1.186789\n",
       "2286  2697.790039  14.370000  15.5300  1.184722\n",
       "2287  2723.070068  14.410000  15.7400  1.191753\n",
       "2288  2730.129883  14.380000  15.5600  1.193118\n",
       "2289  2725.780029  14.405800  15.4542  1.182033\n",
       "\n",
       "[2290 rows x 4 columns]"
      ]
     },
     "execution_count": 86,
     "metadata": {},
     "output_type": "execute_result"
    }
   ],
   "source": [
    "X"
   ]
  },
  {
   "cell_type": "code",
   "execution_count": 87,
   "id": "94c9a0ce",
   "metadata": {},
   "outputs": [
    {
     "data": {
      "text/plain": [
       "0        84.860001\n",
       "1        85.570000\n",
       "2        85.129997\n",
       "3        84.769997\n",
       "4        86.779999\n",
       "           ...    \n",
       "2285    124.589996\n",
       "2286    124.330002\n",
       "2287    125.180000\n",
       "2288    124.489998\n",
       "2289    122.543800\n",
       "Name: GLD, Length: 2290, dtype: float64"
      ]
     },
     "execution_count": 87,
     "metadata": {},
     "output_type": "execute_result"
    }
   ],
   "source": [
    "Y"
   ]
  },
  {
   "cell_type": "markdown",
   "id": "5a4246bd",
   "metadata": {},
   "source": [
    "### Splitting into Training Data and Test Data"
   ]
  },
  {
   "cell_type": "code",
   "execution_count": 88,
   "id": "a53028f0",
   "metadata": {},
   "outputs": [],
   "source": [
    " X_train, X_test, Y_train, Y_test = train_test_split(X,Y, test_size = 0.2, random_state = 2)"
   ]
  },
  {
   "cell_type": "markdown",
   "id": "7a23589e",
   "metadata": {},
   "source": [
    "### Understanding the parameters used above \n",
    "1. test_size = 0.2 : This means that 20% of the data available will be used for tesing\n",
    "2. random_state = 2 : It tells us about the order of randomness used while sorting test set and training set"
   ]
  },
  {
   "cell_type": "markdown",
   "id": "ce658f32",
   "metadata": {},
   "source": [
    "### Understanding Random Forest Algorithm\n",
    "![image](https://encrypted-tbn0.gstatic.com/images?q=tbn:ANd9GcQjhzQiC8Xzjxs51ZJDmsAIuqoUUqjHNAhjdZ8zlIC5SqgRKh0mYw7GvxeiH8V0xOeT9d4&usqp=CAU)\n",
    "[Explaination Video](https://youtu.be/WkFtIqWmX9o)"
   ]
  },
  {
   "cell_type": "markdown",
   "id": "31d879d5",
   "metadata": {},
   "source": [
    "### Our Model: Random Forest Algorithm "
   ]
  },
  {
   "cell_type": "code",
   "execution_count": 92,
   "id": "15b7cadb",
   "metadata": {},
   "outputs": [],
   "source": [
    "regressor = RandomForestRegressor(n_estimators=100) \n",
    "#is a hyperparameter that determines the number of decision trees to be used in the random forest ensemble."
   ]
  },
  {
   "cell_type": "markdown",
   "id": "1bb6abc4",
   "metadata": {},
   "source": [
    "### Training The Model"
   ]
  },
  {
   "cell_type": "code",
   "execution_count": 93,
   "id": "47168388",
   "metadata": {},
   "outputs": [
    {
     "data": {
      "text/html": [
       "<style>#sk-container-id-1 {color: black;background-color: white;}#sk-container-id-1 pre{padding: 0;}#sk-container-id-1 div.sk-toggleable {background-color: white;}#sk-container-id-1 label.sk-toggleable__label {cursor: pointer;display: block;width: 100%;margin-bottom: 0;padding: 0.3em;box-sizing: border-box;text-align: center;}#sk-container-id-1 label.sk-toggleable__label-arrow:before {content: \"▸\";float: left;margin-right: 0.25em;color: #696969;}#sk-container-id-1 label.sk-toggleable__label-arrow:hover:before {color: black;}#sk-container-id-1 div.sk-estimator:hover label.sk-toggleable__label-arrow:before {color: black;}#sk-container-id-1 div.sk-toggleable__content {max-height: 0;max-width: 0;overflow: hidden;text-align: left;background-color: #f0f8ff;}#sk-container-id-1 div.sk-toggleable__content pre {margin: 0.2em;color: black;border-radius: 0.25em;background-color: #f0f8ff;}#sk-container-id-1 input.sk-toggleable__control:checked~div.sk-toggleable__content {max-height: 200px;max-width: 100%;overflow: auto;}#sk-container-id-1 input.sk-toggleable__control:checked~label.sk-toggleable__label-arrow:before {content: \"▾\";}#sk-container-id-1 div.sk-estimator input.sk-toggleable__control:checked~label.sk-toggleable__label {background-color: #d4ebff;}#sk-container-id-1 div.sk-label input.sk-toggleable__control:checked~label.sk-toggleable__label {background-color: #d4ebff;}#sk-container-id-1 input.sk-hidden--visually {border: 0;clip: rect(1px 1px 1px 1px);clip: rect(1px, 1px, 1px, 1px);height: 1px;margin: -1px;overflow: hidden;padding: 0;position: absolute;width: 1px;}#sk-container-id-1 div.sk-estimator {font-family: monospace;background-color: #f0f8ff;border: 1px dotted black;border-radius: 0.25em;box-sizing: border-box;margin-bottom: 0.5em;}#sk-container-id-1 div.sk-estimator:hover {background-color: #d4ebff;}#sk-container-id-1 div.sk-parallel-item::after {content: \"\";width: 100%;border-bottom: 1px solid gray;flex-grow: 1;}#sk-container-id-1 div.sk-label:hover label.sk-toggleable__label {background-color: #d4ebff;}#sk-container-id-1 div.sk-serial::before {content: \"\";position: absolute;border-left: 1px solid gray;box-sizing: border-box;top: 0;bottom: 0;left: 50%;z-index: 0;}#sk-container-id-1 div.sk-serial {display: flex;flex-direction: column;align-items: center;background-color: white;padding-right: 0.2em;padding-left: 0.2em;position: relative;}#sk-container-id-1 div.sk-item {position: relative;z-index: 1;}#sk-container-id-1 div.sk-parallel {display: flex;align-items: stretch;justify-content: center;background-color: white;position: relative;}#sk-container-id-1 div.sk-item::before, #sk-container-id-1 div.sk-parallel-item::before {content: \"\";position: absolute;border-left: 1px solid gray;box-sizing: border-box;top: 0;bottom: 0;left: 50%;z-index: -1;}#sk-container-id-1 div.sk-parallel-item {display: flex;flex-direction: column;z-index: 1;position: relative;background-color: white;}#sk-container-id-1 div.sk-parallel-item:first-child::after {align-self: flex-end;width: 50%;}#sk-container-id-1 div.sk-parallel-item:last-child::after {align-self: flex-start;width: 50%;}#sk-container-id-1 div.sk-parallel-item:only-child::after {width: 0;}#sk-container-id-1 div.sk-dashed-wrapped {border: 1px dashed gray;margin: 0 0.4em 0.5em 0.4em;box-sizing: border-box;padding-bottom: 0.4em;background-color: white;}#sk-container-id-1 div.sk-label label {font-family: monospace;font-weight: bold;display: inline-block;line-height: 1.2em;}#sk-container-id-1 div.sk-label-container {text-align: center;}#sk-container-id-1 div.sk-container {/* jupyter's `normalize.less` sets `[hidden] { display: none; }` but bootstrap.min.css set `[hidden] { display: none !important; }` so we also need the `!important` here to be able to override the default hidden behavior on the sphinx rendered scikit-learn.org. See: https://github.com/scikit-learn/scikit-learn/issues/21755 */display: inline-block !important;position: relative;}#sk-container-id-1 div.sk-text-repr-fallback {display: none;}</style><div id=\"sk-container-id-1\" class=\"sk-top-container\"><div class=\"sk-text-repr-fallback\"><pre>RandomForestRegressor()</pre><b>In a Jupyter environment, please rerun this cell to show the HTML representation or trust the notebook. <br />On GitHub, the HTML representation is unable to render, please try loading this page with nbviewer.org.</b></div><div class=\"sk-container\" hidden><div class=\"sk-item\"><div class=\"sk-estimator sk-toggleable\"><input class=\"sk-toggleable__control sk-hidden--visually\" id=\"sk-estimator-id-1\" type=\"checkbox\" checked><label for=\"sk-estimator-id-1\" class=\"sk-toggleable__label sk-toggleable__label-arrow\">RandomForestRegressor</label><div class=\"sk-toggleable__content\"><pre>RandomForestRegressor()</pre></div></div></div></div></div>"
      ],
      "text/plain": [
       "RandomForestRegressor()"
      ]
     },
     "execution_count": 93,
     "metadata": {},
     "output_type": "execute_result"
    }
   ],
   "source": [
    "regressor.fit(X_train,Y_train)"
   ]
  },
  {
   "cell_type": "markdown",
   "id": "2844ce7a",
   "metadata": {},
   "source": [
    "### Model Evaluation"
   ]
  },
  {
   "cell_type": "code",
   "execution_count": 94,
   "id": "4ff2a66d",
   "metadata": {},
   "outputs": [],
   "source": [
    "test_data_prediction = regressor.predict(X_test)"
   ]
  },
  {
   "cell_type": "code",
   "execution_count": 95,
   "id": "c50f96f8",
   "metadata": {},
   "outputs": [
    {
     "data": {
      "text/plain": [
       "array([168.59779942,  81.94749999, 115.97200043, 127.64660075,\n",
       "       120.4747015 , 154.77799773, 150.2583978 , 126.01530059,\n",
       "       117.391699  , 126.03410071, 116.64130072, 172.48760055,\n",
       "       141.84029836, 167.8545987 , 115.11609997, 117.3707004 ,\n",
       "       137.85520294, 169.85600043, 158.75230252, 159.45609943,\n",
       "       155.05780021, 125.36950007, 175.96489984, 156.7293033 ,\n",
       "       125.23580038,  93.79899992,  77.10950034, 120.6270002 ,\n",
       "       119.10879939, 167.4877997 ,  88.39940066, 125.30700029,\n",
       "        91.32460104, 117.54200064, 121.01279913, 136.62060095,\n",
       "       115.36720137, 115.14500059, 147.94910002, 107.35880093,\n",
       "       104.39280232,  87.27009791, 126.4887005 , 118.09130018,\n",
       "       153.33169955, 119.76990013, 108.43290014, 108.08469806,\n",
       "        93.11150013, 127.00449803,  74.64160048, 113.69479908,\n",
       "       121.33710016, 111.26739879, 118.80469878, 120.62919929,\n",
       "       159.92640113, 167.75630113, 146.76969697,  85.71479853,\n",
       "        94.18380064,  86.68229887,  90.61720038, 119.0535006 ,\n",
       "       126.5213005 , 127.4849002 , 169.79329881, 122.27609966,\n",
       "       117.45259905,  98.5311005 , 167.74000143, 142.7704986 ,\n",
       "       131.43360258, 121.19970194, 121.2431995 , 119.94870053,\n",
       "       114.4855014 , 118.50760047, 107.23300059, 127.97200082,\n",
       "       113.85849979, 107.34359982, 117.01050113, 119.70439834,\n",
       "        88.83120042,  88.23399888, 146.32610217, 127.13319997,\n",
       "       113.24750037, 110.16599863, 108.16759895,  77.46519914,\n",
       "       169.88780162, 113.97629909, 121.67539915, 127.99920196,\n",
       "       155.00499776,  91.70439951, 135.88540068, 159.10090371,\n",
       "       124.62930092, 125.41870016, 130.38240206, 114.81290109,\n",
       "       119.77919987,  92.0121998 , 110.1818989 , 167.70189821,\n",
       "       156.89179901, 114.07029928, 106.7375014 ,  79.40979961,\n",
       "       113.31900036, 125.87760083, 107.26729937, 119.50720087,\n",
       "       156.29030366, 159.94459889, 119.81379987, 135.23460264,\n",
       "       101.283     , 117.3830983 , 119.24190066, 112.91870086,\n",
       "       102.78019907, 160.29479794,  98.77640035, 147.25949922,\n",
       "       125.59630108, 170.09739905, 125.77099897, 127.35639742,\n",
       "       127.50390219, 113.90879903, 112.87300058, 123.5970992 ,\n",
       "       102.15289902,  89.44110004, 124.44589946, 102.55319945,\n",
       "       107.02199927, 113.88270045, 117.34870053,  99.01739927,\n",
       "       121.60060059, 163.2575985 ,  87.35629883, 106.7312997 ,\n",
       "       117.15390069, 127.77100157, 124.05590081,  80.48079917,\n",
       "       120.28140068, 158.17949765,  88.22829977, 110.2       ,\n",
       "       118.81519905, 173.27239812, 102.92029908, 105.59110019,\n",
       "       122.38490034, 158.36569728,  87.68309828,  93.1258005 ,\n",
       "       112.79020026, 176.49789982, 114.16029994, 119.1817007 ,\n",
       "        94.58130093, 125.44919972, 166.1195013 , 114.71770088,\n",
       "       116.67330141,  88.27409881, 148.75770096, 120.32279974,\n",
       "        89.64409972, 111.56580013, 117.45190051, 118.72310122,\n",
       "        88.18299941,  94.0663001 , 117.22040018, 118.5705019 ,\n",
       "       120.11930048, 126.93449793, 121.8594998 , 148.67860001,\n",
       "       165.9817007 , 118.46369965, 120.16360146, 150.48710085,\n",
       "       118.49019895, 173.14809885, 105.33889912, 105.18000083,\n",
       "       148.98620087, 113.92650063, 124.83600108, 147.17910022,\n",
       "       119.70370085, 115.39090069, 112.33080022, 113.55690175,\n",
       "       141.83620154, 117.7263979 , 102.95140056, 115.81800115,\n",
       "       103.49970167,  98.65670049, 117.42530051,  90.48170015,\n",
       "        91.49590069, 153.26529932, 102.67199968, 155.2979011 ,\n",
       "       114.40740138, 138.26870131,  90.25079813, 115.52399954,\n",
       "       114.93789946, 122.57260064, 121.73980018, 165.40900169,\n",
       "        92.93279948, 135.75100159, 121.39289908, 120.84420017,\n",
       "       104.53320008, 142.48690283, 121.70179908, 116.76890055,\n",
       "       113.4543009 , 126.9689978 , 122.52639974, 125.8922995 ,\n",
       "       121.23870058,  86.85889876, 132.25760171, 143.601602  ,\n",
       "        92.75529909, 158.25299921, 158.81030251, 126.19819881,\n",
       "       165.09559922, 108.95799955, 110.28320093, 103.63509826,\n",
       "        94.32780093, 128.0423032 , 107.05160065, 162.37179954,\n",
       "       121.58450054, 132.0514998 , 130.37580157, 160.44479992,\n",
       "        90.03529822, 175.14410177, 127.11890059, 126.74469836,\n",
       "        86.48949903, 124.49739941, 150.53979729,  89.6980999 ,\n",
       "       107.00279976, 109.0172998 ,  83.6954992 , 135.96559943,\n",
       "       155.07800279, 140.25480304,  74.1399001 , 151.39770127,\n",
       "       126.12920009, 126.74600019, 127.56649885, 108.54149929,\n",
       "       156.41829993, 114.49170093, 116.77670118, 125.33369964,\n",
       "       154.00140127, 121.03890008, 156.42119878,  92.95370064,\n",
       "       125.49850132, 125.35850058,  87.8959003 ,  92.26359933,\n",
       "       126.3530992 , 128.32490393, 113.2928005 , 117.54299754,\n",
       "       120.96049983, 127.28449795, 119.47930106, 136.35370054,\n",
       "        94.05039953, 119.74520051, 113.2532011 ,  94.39799956,\n",
       "       108.94979906,  87.23389926, 108.88909949,  89.91959968,\n",
       "        92.39020011, 131.77830277, 162.30630061,  89.40510004,\n",
       "       119.6453008 , 133.50470188, 123.9997001 , 128.45870199,\n",
       "       101.91369863,  88.97839881, 131.70680071, 119.84030063,\n",
       "       108.90029993, 168.05180073, 115.2575004 ,  86.7158989 ,\n",
       "       118.6883007 ,  91.08399981, 162.34449986, 116.33420023,\n",
       "       121.50100008, 160.19569832, 120.05079929, 112.84689916,\n",
       "       108.55029886, 126.79679985,  76.12010048, 102.99169992,\n",
       "       127.83120314, 121.69669951,  92.61270028, 131.81100028,\n",
       "       117.931301  , 115.6868997 , 154.82110242, 159.53660067,\n",
       "       110.17969925, 153.3835978 , 119.37480083, 160.55470074,\n",
       "       118.54860049, 157.68909981, 115.11469901, 116.57790027,\n",
       "       148.5680991 , 114.80010066, 125.62859927, 165.85159973,\n",
       "       117.78549997, 125.10679951, 153.50900333, 153.57070184,\n",
       "       132.08999987, 114.63560031, 121.12870236, 124.83360069,\n",
       "        89.9409005 , 123.15969954, 155.05890241, 111.65020028,\n",
       "       106.70040015, 161.50400136, 118.36139953, 165.71959913,\n",
       "       133.95410113, 114.9148996 , 152.97439817, 168.59549941,\n",
       "       115.48390032, 114.0941014 , 157.7225985 ,  85.39429888,\n",
       "       127.12160093, 127.9934005 , 128.88999939, 124.06690073,\n",
       "       123.95770057,  90.67560082, 153.25520096,  96.98929982,\n",
       "       138.02110002,  89.29929915, 107.22899991, 115.04290049,\n",
       "       112.75000069, 124.15249923,  91.46789874, 125.35130079,\n",
       "       162.29669965, 119.88589886, 165.13470179, 126.82899786,\n",
       "       112.21850018, 127.55569907,  94.98039943,  90.89539971,\n",
       "       103.97719931, 120.85199999,  83.20229976, 126.25039984,\n",
       "       159.62110452, 117.20110104, 118.36729978, 119.91680006,\n",
       "       122.71389961, 120.0998011 , 121.31760036, 118.20190081,\n",
       "       107.0984    , 148.26949991, 126.43239851, 115.7475009 ,\n",
       "        74.13349984, 127.8619015 , 154.29390018, 122.13260027,\n",
       "       125.62060116,  88.95189954, 103.03959852, 124.6219003 ,\n",
       "       120.23520004,  73.33580082, 151.78179992, 121.24340011,\n",
       "       104.9882    ,  86.46629777, 115.05889917, 172.1888983 ,\n",
       "       119.86150021, 159.5119988 , 113.23729954, 121.35839995,\n",
       "       118.67080126,  95.96769989, 118.88350072, 125.74020035,\n",
       "       118.48309954,  96.23820093, 153.83170188, 122.01310024,\n",
       "       147.73829998, 159.35470221, 113.57050015, 122.44099937,\n",
       "       150.27499849, 127.3366004 , 165.98180015, 136.08310089,\n",
       "       119.9712993 , 167.31469858, 108.36799996, 121.57919868,\n",
       "       139.27230107, 106.78889899])"
      ]
     },
     "execution_count": 95,
     "metadata": {},
     "output_type": "execute_result"
    }
   ],
   "source": [
    "test_data_prediction"
   ]
  },
  {
   "cell_type": "markdown",
   "id": "46d584cc",
   "metadata": {},
   "source": [
    "### R Squared Error"
   ]
  },
  {
   "cell_type": "code",
   "execution_count": 96,
   "id": "e558884a",
   "metadata": {},
   "outputs": [
    {
     "data": {
      "text/plain": [
       "0.9892294696357877"
      ]
     },
     "execution_count": 96,
     "metadata": {},
     "output_type": "execute_result"
    }
   ],
   "source": [
    "error_score = metrics.r2_score(Y_test,test_data_prediction)\n",
    "error_score"
   ]
  },
  {
   "cell_type": "markdown",
   "id": "1bbb13f4",
   "metadata": {},
   "source": [
    "### Conclusion: As we have the values in range of 100s the error of 0.989 is low which means our model is performing well"
   ]
  },
  {
   "cell_type": "markdown",
   "id": "c6ed19aa",
   "metadata": {},
   "source": [
    "### Visualising the error using graphs"
   ]
  },
  {
   "cell_type": "code",
   "execution_count": 109,
   "id": "e8cb935b",
   "metadata": {},
   "outputs": [],
   "source": [
    "# Y_test is data frame we need to convert it into list \n",
    "Y_test = list(Y_test)"
   ]
  },
  {
   "cell_type": "code",
   "execution_count": 110,
   "id": "be8e44b5",
   "metadata": {},
   "outputs": [
    {
     "data": {
      "image/png": "[encoded data removed]",
      "text/plain": [
       "<Figure size 640x480 with 1 Axes>"
      ]
     },
     "metadata": {},
     "output_type": "display_data"
    }
   ],
   "source": [
    "plt.plot(Y_test, color='red', label='Actual Data')\n",
    "plt.plot(test_data_prediction, color='black', label='Predicted Data')\n",
    "plt.title('Comparison between Actual and Predicted Data')\n",
    "plt.xlabel('Number of Values')\n",
    "plt.ylabel('Gold Price')\n",
    "plt.legend()\n",
    "plt.show()"
   ]
  },
  {
   "cell_type": "markdown",
   "id": "67c75abf",
   "metadata": {},
   "source": [
    "### As we see the the Acutal Data and Predicted Data are almost overlapping"
   ]
  },
  {
   "cell_type": "markdown",
   "id": "59eb530f",
   "metadata": {},
   "source": [
    "### Finding the Accuracy of our model"
   ]
  },
  {
   "cell_type": "code",
   "execution_count": 118,
   "id": "26d2d290",
   "metadata": {},
   "outputs": [
    {
     "name": "stdout",
     "output_type": "stream",
     "text": [
      "Accuracy Percentage: 98.92%\n"
     ]
    }
   ],
   "source": [
    "def mean_absolute_percentage_error(y_true, y_pred):\n",
    "    total_error_percentage = 0.0\n",
    "    for a, b in zip(y_true, y_pred):\n",
    "        if a != 0:  # To handle cases where the true value is zero\n",
    "            total_error_percentage += abs((a - b) / a)\n",
    "    mean_error_percentage = (total_error_percentage / len(y_true)) * 100\n",
    "    return mean_error_percentage\n",
    "\n",
    "# Assuming you have list1 (actual values) and list2 (predicted values)\n",
    "accuracy_percentage = 100 - mean_absolute_percentage_error(Y_test,test_data_prediction)\n",
    "\n",
    "print(f\"Accuracy Percentage: {accuracy_percentage:.2f}%\")\n"
   ]
  },
  {
   "cell_type": "markdown",
   "id": "3ee48e71",
   "metadata": {},
   "source": [
    "## Our Model is 98.92% Accurate"
   ]
  },
  {
   "cell_type": "markdown",
   "id": "5a8a4be9",
   "metadata": {},
   "source": [
    "By Yash Rajput \n",
    "\n",
    "\n"
   ]
  },
  {
   "cell_type": "code",
   "execution_count": null,
   "id": "84e2206b",
   "metadata": {},
   "outputs": [],
   "source": []
  }
 ],
 "metadata": {
  "kernelspec": {
   "display_name": "Python 3 (ipykernel)",
   "language": "python",
   "name": "python3"
  },
  "language_info": {
   "codemirror_mode": {
    "name": "ipython",
    "version": 3
   },
   "file_extension": ".py",
   "mimetype": "text/x-python",
   "name": "python",
   "nbconvert_exporter": "python",
   "pygments_lexer": "ipython3",
   "version": "3.10.9"
  }
 },
 "nbformat": 4,
 "nbformat_minor": 5
}
